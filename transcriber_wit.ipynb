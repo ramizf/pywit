{
  "nbformat": 4,
  "nbformat_minor": 0,
  "metadata": {
    "colab": {
      "name": "transcriber",
      "provenance": [],
      "authorship_tag": "ABX9TyMGVQfSTAzGZE+Ft9i34ZCO",
      "include_colab_link": true
    },
    "kernelspec": {
      "name": "python3",
      "display_name": "Python 3"
    }
  },
  "cells": [
    {
      "cell_type": "markdown",
      "metadata": {
        "id": "view-in-github",
        "colab_type": "text"
      },
      "source": [
        "<a href=\"https://colab.research.google.com/github/ramizf/pywit/blob/main/transcriber_wit.ipynb\" target=\"_parent\"><img src=\"https://colab.research.google.com/assets/colab-badge.svg\" alt=\"Open In Colab\"/></a>"
      ]
    },
    {
      "cell_type": "code",
      "metadata": {
        "colab": {
          "base_uri": "https://localhost:8080/"
        },
        "id": "AJGsusPd7IJp",
        "outputId": "8b774dfa-088c-45c0-9e80-52535ee675c4"
      },
      "source": [
        "pip install wit"
      ],
      "execution_count": 1,
      "outputs": [
        {
          "output_type": "stream",
          "name": "stdout",
          "text": [
            "Collecting wit\n",
            "  Downloading wit-6.0.0.tar.gz (3.8 kB)\n",
            "Requirement already satisfied: prompt_toolkit in /usr/local/lib/python3.7/dist-packages (from wit) (1.0.18)\n",
            "Requirement already satisfied: requests>=0.8.8 in /usr/local/lib/python3.7/dist-packages (from wit) (2.23.0)\n",
            "Requirement already satisfied: certifi>=2017.4.17 in /usr/local/lib/python3.7/dist-packages (from requests>=0.8.8->wit) (2021.5.30)\n",
            "Requirement already satisfied: chardet<4,>=3.0.2 in /usr/local/lib/python3.7/dist-packages (from requests>=0.8.8->wit) (3.0.4)\n",
            "Requirement already satisfied: idna<3,>=2.5 in /usr/local/lib/python3.7/dist-packages (from requests>=0.8.8->wit) (2.10)\n",
            "Requirement already satisfied: urllib3!=1.25.0,!=1.25.1,<1.26,>=1.21.1 in /usr/local/lib/python3.7/dist-packages (from requests>=0.8.8->wit) (1.24.3)\n",
            "Requirement already satisfied: six>=1.9.0 in /usr/local/lib/python3.7/dist-packages (from prompt_toolkit->wit) (1.15.0)\n",
            "Requirement already satisfied: wcwidth in /usr/local/lib/python3.7/dist-packages (from prompt_toolkit->wit) (0.2.5)\n",
            "Building wheels for collected packages: wit\n",
            "  Building wheel for wit (setup.py) ... \u001b[?25l\u001b[?25hdone\n",
            "  Created wheel for wit: filename=wit-6.0.0-py3-none-any.whl size=3080 sha256=de45151f95fad34479b6752ea242f006936a469399d4cc7f27813fd632a2f897\n",
            "  Stored in directory: /root/.cache/pip/wheels/a2/4e/66/6c3f35a3d6b60d0746f8c54c49868f293ddcba7a681e983c2c\n",
            "Successfully built wit\n",
            "Installing collected packages: wit\n",
            "Successfully installed wit-6.0.0\n"
          ]
        }
      ]
    },
    {
      "cell_type": "code",
      "metadata": {
        "colab": {
          "base_uri": "https://localhost:8080/"
        },
        "id": "IUk8wfxQ7wCK",
        "outputId": "f794eb8c-e62a-42aa-dd39-eef0ce8367af"
      },
      "source": [
        "!git clone https://github.com/wit-ai/pywit"
      ],
      "execution_count": 3,
      "outputs": [
        {
          "output_type": "stream",
          "name": "stdout",
          "text": [
            "Cloning into 'pywit'...\n",
            "remote: Enumerating objects: 465, done.\u001b[K\n",
            "remote: Counting objects: 100% (53/53), done.\u001b[K\n",
            "remote: Compressing objects: 100% (40/40), done.\u001b[K\n",
            "remote: Total 465 (delta 19), reused 33 (delta 9), pack-reused 412\u001b[K\n",
            "Receiving objects: 100% (465/465), 112.22 KiB | 957.00 KiB/s, done.\n",
            "Resolving deltas: 100% (218/218), done.\n"
          ]
        }
      ]
    },
    {
      "cell_type": "code",
      "metadata": {
        "colab": {
          "base_uri": "https://localhost:8080/"
        },
        "id": "z4sJCEe570hW",
        "outputId": "a681af33-c5bd-4500-8f10-118ea3cb309d"
      },
      "source": [
        "%cd pywit/\n"
      ],
      "execution_count": 5,
      "outputs": [
        {
          "output_type": "stream",
          "name": "stdout",
          "text": [
            "/content/pywit\n"
          ]
        }
      ]
    },
    {
      "cell_type": "code",
      "metadata": {
        "colab": {
          "base_uri": "https://localhost:8080/"
        },
        "id": "-UuWn2bd7-b7",
        "outputId": "60ce799b-9398-4939-d071-d40f9756d52d"
      },
      "source": [
        "pip install ."
      ],
      "execution_count": 6,
      "outputs": [
        {
          "output_type": "stream",
          "name": "stdout",
          "text": [
            "Processing /content/pywit\n",
            "\u001b[33m  DEPRECATION: A future pip version will change local packages to be built in-place without first copying to a temporary directory. We recommend you use --use-feature=in-tree-build to test your packages with this new behavior before it becomes the default.\n",
            "   pip 21.3 will remove support for this functionality. You can find discussion regarding this at https://github.com/pypa/pip/issues/7555.\u001b[0m\n",
            "Requirement already satisfied: prompt_toolkit in /usr/local/lib/python3.7/dist-packages (from wit==6.0.0) (1.0.18)\n",
            "Requirement already satisfied: requests>=0.8.8 in /usr/local/lib/python3.7/dist-packages (from wit==6.0.0) (2.23.0)\n",
            "Requirement already satisfied: certifi>=2017.4.17 in /usr/local/lib/python3.7/dist-packages (from requests>=0.8.8->wit==6.0.0) (2021.5.30)\n",
            "Requirement already satisfied: urllib3!=1.25.0,!=1.25.1,<1.26,>=1.21.1 in /usr/local/lib/python3.7/dist-packages (from requests>=0.8.8->wit==6.0.0) (1.24.3)\n",
            "Requirement already satisfied: idna<3,>=2.5 in /usr/local/lib/python3.7/dist-packages (from requests>=0.8.8->wit==6.0.0) (2.10)\n",
            "Requirement already satisfied: chardet<4,>=3.0.2 in /usr/local/lib/python3.7/dist-packages (from requests>=0.8.8->wit==6.0.0) (3.0.4)\n",
            "Requirement already satisfied: six>=1.9.0 in /usr/local/lib/python3.7/dist-packages (from prompt_toolkit->wit==6.0.0) (1.15.0)\n",
            "Requirement already satisfied: wcwidth in /usr/local/lib/python3.7/dist-packages (from prompt_toolkit->wit==6.0.0) (0.2.5)\n",
            "Building wheels for collected packages: wit\n",
            "  Building wheel for wit (setup.py) ... \u001b[?25l\u001b[?25hdone\n",
            "  Created wheel for wit: filename=wit-6.0.0-py3-none-any.whl size=6058 sha256=082717f09021ed52168d07d0b2e21e4f6285d5f6c8e8af0c97bbab662fe9c82c\n",
            "  Stored in directory: /tmp/pip-ephem-wheel-cache-rt4x52ra/wheels/ca/28/a9/a61bc7483d0b725b35d061d3e541a61b69c611d393218d6bd6\n",
            "Successfully built wit\n",
            "Installing collected packages: wit\n",
            "  Attempting uninstall: wit\n",
            "    Found existing installation: wit 6.0.0\n",
            "    Uninstalling wit-6.0.0:\n",
            "      Successfully uninstalled wit-6.0.0\n",
            "Successfully installed wit-6.0.0\n"
          ]
        }
      ]
    },
    {
      "cell_type": "code",
      "metadata": {
        "colab": {
          "base_uri": "https://localhost:8080/"
        },
        "id": "a-t5n-xj7ZVb",
        "outputId": "ae8aa869-f7d2-4a4b-9b94-6356d80c622f"
      },
      "source": [
        "from wit import Wit\n",
        "\n",
        "access_token = 'LV4T6PWQH4OSO6OJH3UXSM36OIM5KX52'\n",
        "client = Wit(access_token)\n",
        "\n",
        "resp = None\n",
        "with open('test.wav', 'rb') as f:\n",
        "  resp = client.speech(f, {'Content-Type': 'audio/wav'})\n",
        "print('Yay, got Wit.ai response: ' + str(resp))\n"
      ],
      "execution_count": 8,
      "outputs": [
        {
          "output_type": "stream",
          "name": "stdout",
          "text": [
            "Yay, got Wit.ai response: {'entities': {}, 'intents': [], 'text': \"May I help you? Hi, I'm calling to see if you guys work on overhead doors at all. I'm sorry, what was the question? Do you work on a commercial overhead door? Yes, we do.\", 'traits': {}}\n"
          ]
        }
      ]
    }
  ]
}